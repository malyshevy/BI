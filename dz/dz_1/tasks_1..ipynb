{
 "cells": [
  {
   "cell_type": "markdown",
   "metadata": {},
   "source": [
    "### 1. Скачайте Power BI Desktop - в качестве подтверждения присылайте скрин интерфейса."
   ]
  },
  {
   "cell_type": "markdown",
   "metadata": {},
   "source": [
    "Решение:\n",
    "__________\n",
    "![](BI.JPG)"
   ]
  },
  {
   "cell_type": "markdown",
   "metadata": {},
   "source": [
    "### 2. Распишите подробнее свой путь в аналитике и ожидания от обучения: Есть ли у вас опыт в аналитике и сколько лет?"
   ]
  },
  {
   "cell_type": "markdown",
   "metadata": {},
   "source": [
    "Решение:\n",
    "________\n",
    "Опыта в аналитике нет."
   ]
  },
  {
   "cell_type": "markdown",
   "metadata": {},
   "source": [
    "### 3. В каком направлении анализа планируете развиваться: BI, бизнес, финансовый, маркетинговый, HR, системный, продуктовая? Возможно вы руководитель или владелец бизнеса, тогда распишите как поможет аналитика в ваших задачах."
   ]
  },
  {
   "cell_type": "markdown",
   "metadata": {},
   "source": [
    "Решение:\n",
    "___\n",
    "Направление machine learning."
   ]
  },
  {
   "cell_type": "markdown",
   "metadata": {},
   "source": [
    "### 4. Какие основные навыки вы хотите освоить?"
   ]
  },
  {
   "cell_type": "markdown",
   "metadata": {},
   "source": [
    "Решение:\n",
    "___\n",
    "Навыки представления процессов и результатов машинного обучения."
   ]
  },
  {
   "cell_type": "markdown",
   "metadata": {},
   "source": [
    "### 5. Есть ли у вас уже опыт работы в какой-то BI-системе и если да, то какой?"
   ]
  },
  {
   "cell_type": "markdown",
   "metadata": {},
   "source": [
    "Решение:\n",
    "___\n",
    "Опыта нет."
   ]
  }
 ],
 "metadata": {
  "kernelspec": {
   "display_name": "Python 3.11.0 64-bit",
   "language": "python",
   "name": "python3"
  },
  "language_info": {
   "name": "python",
   "version": "3.11.0"
  },
  "orig_nbformat": 4,
  "vscode": {
   "interpreter": {
    "hash": "31064f0ec02ac087b4831bd6b19791d97129bf50750d7b3887cc01c31f8b4b70"
   }
  }
 },
 "nbformat": 4,
 "nbformat_minor": 2
}
